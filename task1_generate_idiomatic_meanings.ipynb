{
 "cells": [
  {
   "cell_type": "code",
   "id": "initial_id",
   "metadata": {
    "collapsed": true,
    "ExecuteTime": {
     "end_time": "2025-01-05T02:55:48.483184Z",
     "start_time": "2025-01-05T02:55:41.647638Z"
    }
   },
   "source": [
    "import os\n",
    "import pandas as pd\n",
    "from openai import OpenAI\n",
    "\n",
    "# Read data\n",
    "# train_folder = \"dataset/AdMIRe Subtask A Train/\"\n",
    "# train_df_file_path = train_folder + \"subtask_a_train_gpt-4_meanings.tsv\"\n",
    "\n",
    "# train_folder = \"dataset/AdMIRe Subtask A Train/\"\n",
    "# train_df_file_path = train_folder + \"subtask_a_train_gpt-4o_meanings.tsv\"\n",
    "\n",
    "# train_folder = \"dataset/AdMIRe Subtask A PT Train/\"\n",
    "# train_df_file_path = train_folder + \"subtask_a_train_gpt-4_meanings.tsv\"\n",
    "\n",
    "train_folder = \"dataset/AdMIRe Subtask A PT Train/\"\n",
    "train_df_file_path = train_folder + \"subtask_a_train_gpt-4o_meanings.tsv\"\n",
    "\n",
    "df = pd.read_csv(train_df_file_path, sep='\\t')\n",
    "\n",
    "# Initialize the OpenAI client\n",
    "api_key = \"\"   # <================= Change the API key here\n",
    "client = OpenAI(api_key=api_key)\n",
    "\n",
    "# Define a function to get a response from the LLM\n",
    "def get_gpt_response(message):\n",
    "    chat_completion = client.chat.completions.create(\n",
    "        messages=[\n",
    "            {\n",
    "                \"role\": \"user\",\n",
    "                \"content\": message,\n",
    "            }\n",
    "        ],\n",
    "        model=\"gpt-4\",\n",
    "    )\n",
    "    response_content = chat_completion.choices[0].message.content.strip()\n",
    "    return response_content\n",
    "\n",
    "# Define a function to generate idiomatic meanings\n",
    "def generate_idiomatic_meaning(sentence, compound):\n",
    "    query = (\n",
    "        f\"Given an example sentence: {sentence}\\n\"\n",
    "        f\"What is the idiomatic meaning of '{compound}' in this example sentence?\\n\"\n",
    "        \"Provide one answer without accompanying texts.\"\n",
    "    )\n",
    "    return get_gpt_response(query)\n",
    "\n",
    "# Filter rows where `meaning` needs to be updated\n",
    "missing_meanings = df[(df['sentence_type'] == 'idiomatic') & (df['sent_type_predicted'] == 'literal')]\n",
    "\n",
    "# Generate idiomatic meanings and replace values in the `meaning` column\n",
    "for index, row in missing_meanings.iterrows():\n",
    "    sentence = row['sentence']\n",
    "    compound = row['compound']\n",
    "    meaning = generate_idiomatic_meaning(sentence, compound)\n",
    "    if meaning:\n",
    "        df.at[index, 'meaning'] = meaning  # 替换 `meaning` 列中的值\n",
    "\n",
    "# Save the updated data\n",
    "output_file_path = train_df_file_path.replace(\".tsv\", \"_updated.tsv\")\n",
    "df.to_csv(output_file_path, sep='\\t', index=False)\n",
    "print(f\"Updated file saved to: {output_file_path}\")"
   ],
   "outputs": [
    {
     "name": "stdout",
     "output_type": "stream",
     "text": [
      "Updated file saved to: dataset/AdMIRe Subtask A PT Train/subtask_a_train_gpt-4o_meanings_updated.tsv\n"
     ]
    }
   ],
   "execution_count": 15
  }
 ],
 "metadata": {
  "kernelspec": {
   "display_name": "Python 3",
   "language": "python",
   "name": "python3"
  },
  "language_info": {
   "codemirror_mode": {
    "name": "ipython",
    "version": 2
   },
   "file_extension": ".py",
   "mimetype": "text/x-python",
   "name": "python",
   "nbconvert_exporter": "python",
   "pygments_lexer": "ipython2",
   "version": "2.7.6"
  }
 },
 "nbformat": 4,
 "nbformat_minor": 5
}
